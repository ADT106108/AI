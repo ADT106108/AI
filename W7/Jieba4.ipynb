{
 "cells": [
  {
   "cell_type": "code",
   "execution_count": 3,
   "metadata": {},
   "outputs": [
    {
     "name": "stderr",
     "output_type": "stream",
     "text": [
      "Building prefix dict from C:\\Users\\K410\\Desktop\\W7\\dictionary\\dict.txt.big.txt ...\n",
      "Loading model from cache C:\\Users\\K410\\AppData\\Local\\Temp\\jieba.u735ae225ff7b470f0e781cc0274a270f.cache\n",
      "Loading model cost 1.325 seconds.\n",
      "Prefix dict has been built succesfully.\n"
     ]
    },
    {
     "name": "stdout",
     "output_type": "stream",
     "text": [
      "預設模式:歡迎|，|鄭羽涵|來到|台中教育大學|數位系|就讀|碩士\n",
      "全文模式:歡迎|||鄭羽涵|來到|台中|台中教育大學|教育|大學|數位|數位系|就讀|碩士\n",
      "搜尋引擎:歡迎|，|鄭羽涵|來到|台中|教育|大學|台中教育大學|數位|數位系|就讀|碩士\n"
     ]
    }
   ],
   "source": [
    "# Jieba4 增加自定義停用詞\n",
    "#ADT106108\n",
    "#encoding=utf-8\n",
    "import jieba\n",
    "\n",
    "# 設定繁體中文詞庫\n",
    "jieba.set_dictionary('dictionary/dict.txt.big.txt')  \n",
    "# 增加自定義停用詞\n",
    "jieba.load_userdict('dictionary/user_dict.txt')\n",
    "\n",
    "\n",
    "sentence = \"歡迎，鄭羽涵來到台中教育大學數位系就讀碩士\"\n",
    "\n",
    "#jieba.add_word('數位系')\n",
    "#jieba.add_word('鄭羽涵')\n",
    "#jieba.del_word('歡迎')\n",
    "\n",
    "# 預設模式斷詞\n",
    "breakword = jieba.cut(sentence, cut_all=False)\n",
    "print(\"預設模式:\" + '|' . join(breakword))\n",
    "\n",
    "# 全文模式斷詞\n",
    "breakword = jieba.cut(sentence, cut_all=True)\n",
    "print(\"全文模式:\" + '|' . join(breakword))\n",
    "\n",
    "# 搜尋引擎模式斷詞\n",
    "breakword = jieba.cut_for_search(sentence)\n",
    "print(\"搜尋引擎:\" + '|' . join(breakword))"
   ]
  },
  {
   "cell_type": "code",
   "execution_count": null,
   "metadata": {},
   "outputs": [],
   "source": []
  }
 ],
 "metadata": {
  "kernelspec": {
   "display_name": "Python 3",
   "language": "python",
   "name": "python3"
  },
  "language_info": {
   "codemirror_mode": {
    "name": "ipython",
    "version": 3
   },
   "file_extension": ".py",
   "mimetype": "text/x-python",
   "name": "python",
   "nbconvert_exporter": "python",
   "pygments_lexer": "ipython3",
   "version": "3.5.0"
  }
 },
 "nbformat": 4,
 "nbformat_minor": 2
}
