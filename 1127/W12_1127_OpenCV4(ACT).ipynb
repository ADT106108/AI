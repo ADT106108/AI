{
 "cells": [
  {
   "cell_type": "code",
   "execution_count": 3,
   "metadata": {},
   "outputs": [],
   "source": [
    "import cv2\n",
    "face_cascade = cv2.CascadeClassifier('haarcascade_frontalface_default.xml')#載入分類器\n",
    "#從視訊鏡頭擷取\n",
    "cap = cv2.VideoCapture(0)\n",
    "while(True):\n",
    "    #read the frame\n",
    "    _, img = cap.read()\n",
    "\n",
    "\n",
    "    gray = cv2.cvtColor(img, cv2.COLOR_BGR2GRAY)\n",
    "\n",
    "    faces = face_cascade.detectMultiScale(gray, 1.1, 4)\n",
    "    \n",
    "    i=1\n",
    "    \n",
    "    for (x, y, w, h) in faces:\n",
    "        cv2.rectangle(img, (x, y), (x + w, y + h), (0, 0, 255),2)\n",
    "        crop_img=img[y:y+h, x:x+w]\n",
    "        cv2.imwrite(\"people\"+str(i)+\".png\", crop_img)\n",
    "        i=i+1\n",
    "        \n",
    "    \n",
    "    cv2.namedWindow('ADT106108', cv2.WINDOW_NORMAL)#正常視窗大小\n",
    "    cv2.imshow('ADT106108', img) #show pictrue\n",
    "    if cv2.waitKey(30) == ord('s'):\n",
    "        cv2.imwrite( \"save.png\", img) #保存圖片\n",
    "    if cv2.waitKey(30) == ord('q'):\n",
    "        break\n",
    "cap.release()\n",
    "cv2.destroyAllWindows()"
   ]
  },
  {
   "cell_type": "code",
   "execution_count": null,
   "metadata": {},
   "outputs": [],
   "source": []
  },
  {
   "cell_type": "code",
   "execution_count": null,
   "metadata": {},
   "outputs": [],
   "source": []
  }
 ],
 "metadata": {
  "kernelspec": {
   "display_name": "Python 3",
   "language": "python",
   "name": "python3"
  },
  "language_info": {
   "codemirror_mode": {
    "name": "ipython",
    "version": 3
   },
   "file_extension": ".py",
   "mimetype": "text/x-python",
   "name": "python",
   "nbconvert_exporter": "python",
   "pygments_lexer": "ipython3",
   "version": "3.6.5"
  }
 },
 "nbformat": 4,
 "nbformat_minor": 2
}
